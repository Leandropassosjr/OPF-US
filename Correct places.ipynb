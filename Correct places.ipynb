{
 "cells": [
  {
   "cell_type": "code",
   "execution_count": 3,
   "metadata": {},
   "outputs": [],
   "source": [
    "import os\n",
    "import shutil\n",
    "import numpy as np"
   ]
  },
  {
   "cell_type": "code",
   "execution_count": 10,
   "metadata": {},
   "outputs": [],
   "source": [
    "datasets = ['1069_5gt','1069_7gt','1086_5ge', '1086_7ge','1143_5gte','1143_7gte']\n",
    "folds = np.arange(1,21)\n",
    "\n",
    "files = ['major_negative','major_neutral','negative','negatives_major_zero']\n",
    "\n",
    "for dsds in range(len(datasets)):\n",
    "    ds = datasets[dsds]    \n",
    "    for file in files:   \n",
    "        for f in folds: \n",
    "            src = 'Results/{}/{}/results_{}.txt'.format(ds,f,file)\n",
    "            \n",
    "            \n",
    "            pathNew = 'Results/down_{}/{}/{}'.format(file,ds,f)\n",
    "            if not os.path.exists(pathNew):\n",
    "                os.makedirs(pathNew)\n",
    "                \n",
    "            shutil.move(src, '{}/results.txt'.format(pathNew))\n",
    "            "
   ]
  }
 ],
 "metadata": {
  "kernelspec": {
   "display_name": "Python 3",
   "language": "python",
   "name": "python3"
  },
  "language_info": {
   "codemirror_mode": {
    "name": "ipython",
    "version": 3
   },
   "file_extension": ".py",
   "mimetype": "text/x-python",
   "name": "python",
   "nbconvert_exporter": "python",
   "pygments_lexer": "ipython3",
   "version": "3.7.6"
  }
 },
 "nbformat": 4,
 "nbformat_minor": 4
}
