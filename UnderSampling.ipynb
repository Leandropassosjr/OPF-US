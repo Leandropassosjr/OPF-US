{
 "cells": [
  {
   "cell_type": "code",
   "execution_count": 1,
   "metadata": {},
   "outputs": [],
   "source": [
    "import opfython.math.general as g\n",
    "import opfython.stream.loader as l\n",
    "import opfython.stream.parser as p\n",
    "import opfython.stream.splitter as s\n",
    "\n",
    "from underSampling_OPF import US\n",
    "import os\n",
    "\n",
    "import numpy as np\n",
    "import sys\n",
    "\n",
    "import logging\n",
    "logging.disable(sys.maxsize)\n",
    "np.set_printoptions(threshold=sys.maxsize)"
   ]
  },
  {
   "cell_type": "code",
   "execution_count": 2,
   "metadata": {},
   "outputs": [],
   "source": [
    "#datasets = ['indian_liver','secom','seismic_bumps', 'spam','vertebral_column','wilt']\n",
    "datasets = ['indian_liver']\n",
    "folds = np.arange(1,2)\n",
    "\n",
    "usOPF = US('ResultsGeneral')\n",
    "\n",
    "\n",
    "\n",
    "for dsds in range(len(datasets)):\n",
    "    ds = datasets[dsds]\n",
    "    for ff in range(len(folds)): \n",
    "        f = folds[ff]\n",
    "        train = np.loadtxt('data/{}/{}/train.txt'.format(ds,f),delimiter=',', dtype=np.float32)\n",
    "        valid = np.loadtxt('data/{}/{}/valid.txt'.format(ds,f),delimiter=',', dtype=np.float32)\n",
    "        test = np.loadtxt('data/{}/{}/test.txt'.format(ds,f),delimiter=',', dtype=np.float32)\n",
    "        \n",
    "        concat = np.concatenate((train, valid))\n",
    "        X = concat[:,:-1]\n",
    "        Y = concat[:,-1].astype(np.int) \n",
    "        indices = np.arange(len(X))\n",
    "        \n",
    "        output = usOPF.run(X, Y, indices)\n",
    "        \n",
    "        X = X[:len(train),...]\n",
    "        Y = Y[:len(train),...]\n",
    "        output = output[:len(train),...]\n",
    "        \n",
    "        X_test = test[:,:-1]\n",
    "        Y_test = test[:,-1].astype(np.int) \n",
    "        \n",
    "        \n",
    "        pathDataset = 'data/{}/{}'.format(ds,f)\n",
    "        if not os.path.exists(pathDataset):\n",
    "            os.makedirs(pathDataset)  \n",
    "            \n",
    "            \n",
    "        \n",
    "        #1st case: remove samples from majoritary class with negative scores      \n",
    "        usOPF.major_negative( output, X, Y, X_test, Y_test,pathDataset, 1, ds,f,2)\n",
    "\n",
    "        #2st case: remove samples from majoritary class with negative or zero scores\n",
    "        usOPF.major_neutral( output, X, Y, X_test, Y_test,pathDataset, 1, ds,f,2)   \n",
    "        \n",
    "        #3st case: remove all samples with negative\n",
    "        usOPF.negative( output, X, Y, X_test, Y_test,pathDataset, 1, ds,f,2)\n",
    "        \n",
    "        #4st case: remove samples from majoritary class with negative or zero scores \n",
    "            # and from minoritary class with negative scores\n",
    "        usOPF.negatives_major_zero( output, X, Y,X_test, Y_test, pathDataset, 1, ds,f,2)\n",
    "        \n",
    "        #5st case: remove samples from majoritary class until balancing the dataset\n",
    "        usOPF.balance( output, X, Y, X_test, Y_test, pathDataset, 1, ds,f,2)\n",
    "        "
   ]
  }
 ],
 "metadata": {
  "kernelspec": {
   "display_name": "Python 3",
   "language": "python",
   "name": "python3"
  },
  "language_info": {
   "codemirror_mode": {
    "name": "ipython",
    "version": 3
   },
   "file_extension": ".py",
   "mimetype": "text/x-python",
   "name": "python",
   "nbconvert_exporter": "python",
   "pygments_lexer": "ipython3",
   "version": "3.7.6"
  }
 },
 "nbformat": 4,
 "nbformat_minor": 4
}
